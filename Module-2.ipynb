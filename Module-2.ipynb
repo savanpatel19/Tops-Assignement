{
 "cells": [
  {
   "cell_type": "code",
   "execution_count": 3,
   "id": "d61b2204",
   "metadata": {
    "scrolled": true
   },
   "outputs": [
    {
     "name": "stdout",
     "output_type": "stream",
     "text": [
      " Enter a number 2\n",
      "factorial of 2 is 2\n"
     ]
    }
   ],
   "source": [
    "#Write a Python program to get the Factorial number of given number\n",
    "n=int(input(\" Enter a number \"))\n",
    "c=1\n",
    "for i in range(1,n+1):\n",
    "    c=c*i\n",
    "     \n",
    "print(f\"factorial of {n} is {c}\")"
   ]
  },
  {
   "cell_type": "code",
   "execution_count": null,
   "id": "d46c6064",
   "metadata": {},
   "outputs": [],
   "source": [
    "# fibonacci series\n",
    "def fib(n):\n",
    "    if n==0:\n",
    "        return 0\n",
    "    elif n==1:\n",
    "        return 1\n",
    "    else:\n",
    "        return (fib(n-1)+fib(n-2))\n",
    "    \n",
    "for i in range(10):\n",
    "    print(fib(i))\n"
   ]
  },
  {
   "cell_type": "code",
   "execution_count": null,
   "id": "ced80ab0",
   "metadata": {},
   "outputs": [],
   "source": [
    "#Write a Python program to check if a number is positive, negative or zero\n",
    "\n",
    "num = int(input(\"Enter a number\"))\n",
    "if num > 0:\n",
    "     print(\"positive\")   \n",
    "elif num == 0:\n",
    "     print(\"zero\")\n",
    "else:\n",
    "    print(\"negative\")\n",
    "     "
   ]
  },
  {
   "cell_type": "markdown",
   "id": "5a9a0fbc",
   "metadata": {},
   "source": [
    "How memory is managed in python?\n",
    "\n",
    "Ans:-In python memory management is done automatically with the help of two script\n",
    "1-Pyhton memory manager--for Allocation of memory\n",
    "2-Pyhton garbage collector--for de-allocation of memory\n",
    "\n",
    "for Allocation- there are two memory in Python\n",
    "1-Stack memory--for storing refrences and function/Stack memory takes place at compile time\n",
    "2-Heap memory--for storing values and objects/heap memory takes place at run time/Execution time\n",
    "\n",
    "In python if there were extra memory found in heap  at the end then that memory is directly removed or de-allocate by garbage collector this concept is know as reference counting"
   ]
  },
  {
   "cell_type": "markdown",
   "id": "ff4a3926",
   "metadata": {},
   "source": [
    "What is the purpose of continue statement in python?\n",
    "\n",
    "Ans:-Continue statement in python is used to skip the one iteration and move to another itertation in the program.\n",
    "Continue statement is mostly used with the help of loops and if/else ladder"
   ]
  },
  {
   "cell_type": "code",
   "execution_count": null,
   "id": "bf22a615",
   "metadata": {},
   "outputs": [],
   "source": [
    "#swapping two numbers using temp variable\n",
    "a=10\n",
    "b=11\n",
    "\n",
    "temp =a\n",
    "a=b\n",
    "b=temp\n",
    "print(a)\n",
    "print(b)\n"
   ]
  },
  {
   "cell_type": "code",
   "execution_count": 6,
   "id": "bb0418dd",
   "metadata": {},
   "outputs": [
    {
     "name": "stdout",
     "output_type": "stream",
     "text": [
      "1\n",
      "7\n"
     ]
    }
   ],
   "source": [
    "#swapping of  two numbers without using temp variable\n",
    "a=7\n",
    "b=1\n",
    "\n",
    "a=a+b \n",
    "b=a-b \n",
    "a=a-b\n",
    "\n",
    " \n",
    "print(a)\n",
    "print(b)"
   ]
  },
  {
   "cell_type": "code",
   "execution_count": null,
   "id": "db766224",
   "metadata": {},
   "outputs": [],
   "source": [
    "#program to find whether a given number is prime or not\n",
    " \n",
    "num=int(input(\"Enter a number\"))\n",
    "\n",
    "if num%2==0:\n",
    "    print(\"even number\")\n",
    "else:\n",
    "    print(\"odd number\")"
   ]
  },
  {
   "cell_type": "code",
   "execution_count": 9,
   "id": "e91991d9",
   "metadata": {},
   "outputs": [
    {
     "name": "stdout",
     "output_type": "stream",
     "text": [
      "Enter a lettere\n",
      "vowel\n"
     ]
    }
   ],
   "source": [
    "#to check whether a letter is vowel or not\n",
    "\n",
    "l=input(\"Enter a letter\")\n",
    "if (l=='a' or l=='e' or l=='i' or l=='o' or l=='u'):\n",
    "    print(\"vowel\")\n",
    "else:\n",
    "    print(\"consonent\")\n",
    " "
   ]
  },
  {
   "cell_type": "code",
   "execution_count": 16,
   "id": "3731cdea",
   "metadata": {},
   "outputs": [
    {
     "name": "stdout",
     "output_type": "stream",
     "text": [
      "0\n",
      "0\n",
      "0\n",
      "6\n"
     ]
    }
   ],
   "source": [
    "#program to sum three integer if two values are same then sum=0\n",
    "\n",
    "def sum_three(x, y, z):\n",
    "    if x == y or y == z or x==z:\n",
    "        sum = 0\n",
    "    else:\n",
    "        sum = x + y + z\n",
    "    return sum\n",
    "print(sum_three(2, 1, 2))\n",
    "print(sum_three(3, 2, 2))\n",
    "print(sum_three(2, 2, 2))\n",
    "print(sum_three(1, 2, 3))\n",
    " "
   ]
  },
  {
   "cell_type": "code",
   "execution_count": 40,
   "id": "0ad703af",
   "metadata": {},
   "outputs": [
    {
     "name": "stdout",
     "output_type": "stream",
     "text": [
      "False\n"
     ]
    }
   ],
   "source": [
    "#write a python program to check values of two given integers and return them true if equal\n",
    "\n",
    "def sun(a,b):\n",
    "    if a==b:\n",
    "        return True\n",
    "    elif a+b==5:\n",
    "        return True\n",
    "    elif a-b==5:\n",
    "        return True\n",
    "    else:\n",
    "        return False\n",
    "    \n",
    "print(sun(1,0))    "
   ]
  },
  {
   "cell_type": "code",
   "execution_count": 1,
   "id": "a0765d24",
   "metadata": {},
   "outputs": [
    {
     "ename": "TypeError",
     "evalue": "range expected at least 1 argument, got 0",
     "output_type": "error",
     "traceback": [
      "\u001b[1;31m---------------------------------------------------------------------------\u001b[0m",
      "\u001b[1;31mTypeError\u001b[0m                                 Traceback (most recent call last)",
      "\u001b[1;32m~\\AppData\\Local\\Temp\\ipykernel_14056\\2639334673.py\u001b[0m in \u001b[0;36m<module>\u001b[1;34m\u001b[0m\n\u001b[0;32m      1\u001b[0m \u001b[1;31m#Write a python program to sum of the first n positive integers.\u001b[0m\u001b[1;33m\u001b[0m\u001b[1;33m\u001b[0m\u001b[0m\n\u001b[1;32m----> 2\u001b[1;33m \u001b[1;32mfor\u001b[0m \u001b[0mi\u001b[0m \u001b[1;32min\u001b[0m \u001b[0mrange\u001b[0m\u001b[1;33m(\u001b[0m\u001b[1;33m)\u001b[0m\u001b[1;33m:\u001b[0m\u001b[1;33m\u001b[0m\u001b[1;33m\u001b[0m\u001b[0m\n\u001b[0m\u001b[0;32m      3\u001b[0m     \u001b[0mc\u001b[0m\u001b[1;33m=\u001b[0m\u001b[0mi\u001b[0m\u001b[1;33m+\u001b[0m\u001b[0mi\u001b[0m\u001b[1;33m\u001b[0m\u001b[1;33m\u001b[0m\u001b[0m\n\u001b[0;32m      4\u001b[0m \u001b[1;33m\u001b[0m\u001b[0m\n\u001b[0;32m      5\u001b[0m \u001b[1;33m\u001b[0m\u001b[0m\n",
      "\u001b[1;31mTypeError\u001b[0m: range expected at least 1 argument, got 0"
     ]
    }
   ],
   "source": [
    "#Write a python program to sum of the first n positive integers.\n",
    "for i in range():\n",
    "    c=i+i \n",
    "print(c)    "
   ]
  },
  {
   "cell_type": "code",
   "execution_count": 51,
   "id": "50728c35",
   "metadata": {},
   "outputs": [
    {
     "name": "stdout",
     "output_type": "stream",
     "text": [
      "Enter a stringkanika\n",
      "the length of a string is 6\n"
     ]
    }
   ],
   "source": [
    "#program to check length of a string\n",
    "a=input(\"Enter a string\")\n",
    "print(f'the length of a string is {len(a)}')"
   ]
  },
  {
   "cell_type": "code",
   "execution_count": 57,
   "id": "dca949ed",
   "metadata": {},
   "outputs": [
    {
     "name": "stdout",
     "output_type": "stream",
     "text": [
      "enter a stringhello world\n",
      "The frequency is 1\n"
     ]
    }
   ],
   "source": [
    "#calculate the frequency of a string \n",
    "a=input(\"enter a string\")\n",
    "print(f\"The frequency is {a.count('e')}\")\n"
   ]
  },
  {
   "cell_type": "markdown",
   "id": "11c52388",
   "metadata": {},
   "source": [
    "what are negative indecies in python?\n",
    "\n",
    "Ans:-Negative Indexing is used to in Python to begin slicing from the end of the string i.e. the last. Slicing in Python gets a sub-string from a string. The slicing range is set as parameters.\n",
    "i.e. start, stop and step."
   ]
  },
  {
   "cell_type": "code",
   "execution_count": 8,
   "id": "a23949bc",
   "metadata": {},
   "outputs": [
    {
     "name": "stdout",
     "output_type": "stream",
     "text": [
      "The frequency is 2\n"
     ]
    }
   ],
   "source": [
    "#write a pyhton program to count occcurence of substring in a string\n",
    "\n",
    "a= \"hi  i am a programmer\"\n",
    "substring='i'\n",
    "print(f\"The frequency is {a.count(substring)}\")\n"
   ]
  },
  {
   "cell_type": "code",
   "execution_count": 131,
   "id": "2d573349",
   "metadata": {},
   "outputs": [
    {
     "name": "stdout",
     "output_type": "stream",
     "text": [
      "1\n"
     ]
    }
   ],
   "source": [
    "#Write a Python program to count the occurrences of each word\n",
    "\n",
    "a=\"hello i m a world\"\n",
    "c=a.count()\n",
    "print(c)"
   ]
  },
  {
   "cell_type": "code",
   "execution_count": 23,
   "id": "34e2fd9f",
   "metadata": {},
   "outputs": [
    {
     "name": "stdout",
     "output_type": "stream",
     "text": [
      "Notlo is a world hel a state\n"
     ]
    }
   ],
   "source": [
    "#Write a Python program to get a single string from two given strings,\n",
    "#separated by a space and swap the first two characters of each string.\"\"\n",
    "a=\"hello is a world\"\n",
    "b=\"Not a state\"\n",
    "\n",
    "x=a[ :3]\n",
    "a=a.replace(a[ : 3],b[ :3])\n",
    "b=b.replace(b[:3],x)\n",
    "print(f'{a} {b}')\n",
    "\n"
   ]
  },
  {
   "cell_type": "code",
   "execution_count": 28,
   "id": "a19de0e3",
   "metadata": {},
   "outputs": [
    {
     "name": "stdout",
     "output_type": "stream",
     "text": [
      "Enter a stringsavan\n",
      "savaning\n"
     ]
    }
   ],
   "source": [
    "#'''Write a Python program to add ing at the end of a given string (length\n",
    "#should be at least 3 If the given string already ends with ing then add\n",
    "#ly instead if the string length of the given string is less than 3, leave it\n",
    "#unchanged.'''\n",
    "\n",
    "a=input(\"Enter a string\")\n",
    "length=len(a)\n",
    "if length>3:\n",
    "        if a.endswith('ing'):\n",
    "             print(a.replace('ing','ly'))\n",
    "        else:\n",
    "            a=a+'ing'\n",
    "            print(a)\n",
    "else:\n",
    "    print(a)"
   ]
  },
  {
   "cell_type": "code",
   "execution_count": 51,
   "id": "7ae81971",
   "metadata": {},
   "outputs": [],
   "source": [
    "# Write a Python program to find the first appearance of the substring\n",
    "#'not' and 'poor' from a given string, if 'not' follows the 'poor', replace the\n",
    "#whole 'not'...'poor' substring with 'good'. Return the resulting string\n",
    "a=\"hello is not poor a string\"\n",
    " \n",
    "if a==\"not poor\":\n",
    "        print(a.replace(\"not poor\",\"good\"))\n",
    " \n",
    " "
   ]
  },
  {
   "cell_type": "code",
   "execution_count": 69,
   "id": "227f4147",
   "metadata": {},
   "outputs": [
    {
     "name": "stdout",
     "output_type": "stream",
     "text": [
      "fvourew\n"
     ]
    }
   ],
   "source": [
    " #Write a Python function that takes a list of words and returns the length of the longest one.\n",
    "\n",
    "def fun(words):\n",
    "    acc=max(words,key=len)\n",
    "    print(acc)\n",
    "    \n",
    "    \n",
    "    \n",
    "    \n",
    "    \n",
    "a=['one','threee','too','fvourew']\n",
    "fun(a)"
   ]
  },
  {
   "cell_type": "code",
   "execution_count": 102,
   "id": "155bc615",
   "metadata": {},
   "outputs": [
    {
     "name": "stdout",
     "output_type": "stream",
     "text": [
      "None\n"
     ]
    }
   ],
   "source": [
    "#python function to reverse a string\n",
    " \n",
    "def fun(strin):\n",
    "    length=len(strin)\n",
    "    if length%4==0:\n",
    "          strin=strin[::-1]\n",
    "          return strin\n",
    "    \n",
    "\n",
    "\n",
    "s=\"ladaklnnd\"\n",
    "print(fun(s))\n",
    "    "
   ]
  },
  {
   "cell_type": "code",
   "execution_count": 106,
   "id": "b403ba32",
   "metadata": {},
   "outputs": [
    {
     "name": "stdout",
     "output_type": "stream",
     "text": [
      "hean\n"
     ]
    }
   ],
   "source": [
    "#program to join a string first and last character\n",
    "string=\"hello my name is savan\"\n",
    "\n",
    "length=len(string)\n",
    "if length <2:\n",
    "        print(string)\n",
    "else:\n",
    "        print(string[:2]+string[-2:])\n",
    "      \n",
    "        "
   ]
  },
  {
   "cell_type": "code",
   "execution_count": 128,
   "id": "0780cdce",
   "metadata": {},
   "outputs": [
    {
     "name": "stdout",
     "output_type": "stream",
     "text": [
      " r savan u ok\n"
     ]
    }
   ],
   "source": [
    "#function to insert a string in the middele of the string\n",
    "s=\" r u ok\"\n",
    "a=s.find(\"u\")\n",
    "c=s[:a]+\"savan \"+s[a:]\n",
    "print(c)\n",
    " "
   ]
  },
  {
   "cell_type": "code",
   "execution_count": null,
   "id": "1b67d881",
   "metadata": {},
   "outputs": [],
   "source": []
  }
 ],
 "metadata": {
  "kernelspec": {
   "display_name": "Python 3 (ipykernel)",
   "language": "python",
   "name": "python3"
  },
  "language_info": {
   "codemirror_mode": {
    "name": "ipython",
    "version": 3
   },
   "file_extension": ".py",
   "mimetype": "text/x-python",
   "name": "python",
   "nbconvert_exporter": "python",
   "pygments_lexer": "ipython3",
   "version": "3.9.13"
  }
 },
 "nbformat": 4,
 "nbformat_minor": 5
}
