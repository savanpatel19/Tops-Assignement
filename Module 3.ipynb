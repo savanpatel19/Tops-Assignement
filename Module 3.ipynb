{
 "cells": [
  {
   "cell_type": "code",
   "execution_count": 6,
   "id": "d9ed55ad",
   "metadata": {},
   "outputs": [
    {
     "name": "stdout",
     "output_type": "stream",
     "text": [
      "[4, 3, 2, 1]\n"
     ]
    }
   ],
   "source": [
    "#WHAT  is list and how will you reverse a list\n",
    "# Ans:- Lists are used to store multiple items in a single variable.\n",
    "#Lists are one of 4 built-in data types in Python used to store collections of data \n",
    "\n",
    "l=[1,2,3,4]\n",
    "l.reverse()\n",
    "print(l)"
   ]
  },
  {
   "cell_type": "code",
   "execution_count": 25,
   "id": "fe79b546",
   "metadata": {},
   "outputs": [
    {
     "name": "stdout",
     "output_type": "stream",
     "text": [
      "[1, 2, 3]\n"
     ]
    }
   ],
   "source": [
    "#how will you remove last object from the list\n",
    "l=[1,2,3,4]\n",
    "l.pop(-1)\n",
    "print(l)"
   ]
  },
  {
   "cell_type": "markdown",
   "id": "84ca81b2",
   "metadata": {},
   "source": [
    "difference between append and extend?\n",
    "\n",
    "Ans:-\n",
    "      Append                                                                 Extend\n",
    "      \n",
    " *Append adds a single element in a list end                      *Extend adds multiple elements at the end of the list\n",
    " *Length of a list will increase by one                           *Extend accepts only iterables\n",
    " *Append takes only single argument                               *Length of list will increase according to elements entered\n",
    " *Append accepts all data types"
   ]
  },
  {
   "cell_type": "code",
   "execution_count": 36,
   "id": "9c57d5b4",
   "metadata": {},
   "outputs": [
    {
     "name": "stdout",
     "output_type": "stream",
     "text": [
      " The largest number in a list is 5 \n",
      " The smallest number in a list is 1\n",
      " There sum is 15\n"
     ]
    }
   ],
   "source": [
    "#write a pyhton function to get the largest number ,smallest number  and sum of all from a list\n",
    "l=[1,2,3,4,5]\n",
    "c=max(l)\n",
    "b=min(l)\n",
    "e=sum(l)\n",
    "print(f\" The largest number in a list is {c} \\n The smallest number in a list is {b}\\n There sum is {e}\")\n",
    " \n"
   ]
  },
  {
   "cell_type": "code",
   "execution_count": 44,
   "id": "9d8ef8ab",
   "metadata": {},
   "outputs": [
    {
     "name": "stdout",
     "output_type": "stream",
     "text": [
      "False\n"
     ]
    }
   ],
   "source": [
    "#comparing two list\n",
    "l1=[1,3,2]\n",
    "l2=[3,4,2]\n",
    "l1.sort()\n",
    "l2.sort()\n",
    "print(l1==l2)\n",
    "    \n",
    "    "
   ]
  },
  {
   "cell_type": "code",
   "execution_count": 123,
   "id": "dd42352b",
   "metadata": {},
   "outputs": [
    {
     "name": "stdout",
     "output_type": "stream",
     "text": [
      "3\n"
     ]
    }
   ],
   "source": [
    "# Write a Python program to count the number of strings where the string\n",
    "#length is 2 or more and the first and last character are same from a given\n",
    "#list of strings. \n",
    "\n",
    "def match_words(words):\n",
    "  ctr = 0\n",
    "\n",
    "  for word in words:\n",
    "    if len(word) > 1 and word[0] == word[-1]:\n",
    "      ctr += 1\n",
    "  return ctr\n",
    "\n",
    "print(match_words(['aba', 'xyz', 'aba', '1221']))\n",
    "  "
   ]
  },
  {
   "cell_type": "code",
   "execution_count": 129,
   "id": "3a9d2988",
   "metadata": {},
   "outputs": [
    {
     "name": "stdout",
     "output_type": "stream",
     "text": [
      "[1, 2, 3, 4, 5]\n"
     ]
    }
   ],
   "source": [
    "#write a python program to remove a duplicatess from a list\n",
    "\n",
    "l=[1,2,2,3,4,5]\n",
    "print(list(set(l)))\n",
    " "
   ]
  },
  {
   "cell_type": "code",
   "execution_count": 134,
   "id": "f6ae0588",
   "metadata": {},
   "outputs": [
    {
     "name": "stdout",
     "output_type": "stream",
     "text": [
      "Empty\n"
     ]
    }
   ],
   "source": [
    "#Write a Python program to check a list is empty or not.\n",
    "l=[]\n",
    "if len(l)>0:\n",
    "    print(\"Not empty\")\n",
    "else:\n",
    "    print(\"Empty\")"
   ]
  },
  {
   "cell_type": "code",
   "execution_count": 138,
   "id": "24a0263e",
   "metadata": {},
   "outputs": [
    {
     "name": "stdout",
     "output_type": "stream",
     "text": [
      "False\n"
     ]
    }
   ],
   "source": [
    "#Write a Python function that takes two lists and returns true if they haveat least one common member. \n",
    "l=[1,2,7,4]\n",
    "l1=[5,6,7,8]\n",
    " "
   ]
  },
  {
   "cell_type": "code",
   "execution_count": null,
   "id": "584774ee",
   "metadata": {},
   "outputs": [],
   "source": []
  }
 ],
 "metadata": {
  "kernelspec": {
   "display_name": "Python 3 (ipykernel)",
   "language": "python",
   "name": "python3"
  },
  "language_info": {
   "codemirror_mode": {
    "name": "ipython",
    "version": 3
   },
   "file_extension": ".py",
   "mimetype": "text/x-python",
   "name": "python",
   "nbconvert_exporter": "python",
   "pygments_lexer": "ipython3",
   "version": "3.9.13"
  }
 },
 "nbformat": 4,
 "nbformat_minor": 5
}
